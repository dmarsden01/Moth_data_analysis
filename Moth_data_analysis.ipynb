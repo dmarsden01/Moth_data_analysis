{
 "cells": [
  {
   "cell_type": "code",
   "execution_count": null,
   "metadata": {},
   "outputs": [],
   "source": [
    "import pandas as pd\n",
    "import csv\n",
    "import matplotlib as plt\n",
    "import sqlite3\n"
   ]
  },
  {
   "cell_type": "markdown",
   "metadata": {},
   "source": [
    "## Creating pandas dataframes from .csvs"
   ]
  },
  {
   "cell_type": "code",
   "execution_count": null,
   "metadata": {},
   "outputs": [],
   "source": [
    "Full_df = pd.read_csv('./VC62_Moth_Recording_PM.csv')\n",
    "# Full_df.head(10)\n",
    "\n",
    "Full_columns = list(Full_df.keys())\n",
    "\n",
    "print(\"Columns are: \")\n",
    "print(Full_columns)\n",
    "\n"
   ]
  },
  {
   "cell_type": "code",
   "execution_count": null,
   "metadata": {},
   "outputs": [],
   "source": [
    "# These \"raw\" data spreadsheets need tidying.\n",
    "# They can also be joined together to a master dataframe.\n",
    "Data_2021 = pd.read_csv('./2021_raw.csv')\n",
    "Data_2022 = pd.read_csv('./2022_raw.csv')\n",
    "Data_2023 = pd.read_csv('./2023_raw.csv')\n",
    "\n",
    "raw_data = {2021:Data_2021, 2022:Data_2022, 2023:Data_2023}\n",
    "\n",
    "# Data_2021.head()"
   ]
  },
  {
   "cell_type": "markdown",
   "metadata": {},
   "source": [
    "## Analysing Pandas dataframes"
   ]
  },
  {
   "cell_type": "code",
   "execution_count": null,
   "metadata": {},
   "outputs": [],
   "source": [
    "Full_df.head(20)\n"
   ]
  },
  {
   "cell_type": "code",
   "execution_count": null,
   "metadata": {},
   "outputs": [],
   "source": [
    "print(f\"Number of entries in dataframe is {len(Full_df)}\")\n",
    "\n",
    "Taxon = Full_df[\"Taxon\"]\n",
    "Taxon_set = set(Taxon)\n",
    "\n",
    "print(f\"Number of unique Taxons is {len(Taxon_set)}\")\n",
    "\n",
    "Dates = Full_df[\"Date\"]\n",
    "Dates_set = set(Dates)\n",
    "\n",
    "print(f\"Number of unique Dates is {len(Dates_set)}\")\n",
    "\n",
    "print(\"Unique Taxons are:\")\n",
    "print(Taxon_set)"
   ]
  },
  {
   "cell_type": "code",
   "execution_count": null,
   "metadata": {},
   "outputs": [],
   "source": [
    "def Get_mean_taxon_sightings(df, Taxon):\n",
    "    \"\"\"\n",
    "    Given string of the moth taxon, returns the total number of times that taxon was seen divided by the total number of unique dates (i.e the attempts at sighting something).\n",
    "    \"\"\"\n",
    "    indices_of_instances = df[\"Taxon\"][df[\"Taxon\"]==Taxon].index.tolist()\n",
    "    print(f\"{Taxon} was seen on {len(indices_of_instances)} separate instance(s).\")\n",
    "\n",
    "    Num_times_per_instance = Full_df[\"Quantity\"][test_indices].values\n",
    "    Total_times = sum(Num_times_per_instance)\n",
    "    print(f\"{Taxon} was seen a total of {Total_times} time(s).\")\n",
    "\n",
    "    Mean_when_seen = Total_times/len(indices_of_instances)\n",
    "    print(f\"When {Taxon} was seen, it was seen a mean of {Mean_when_seen} times.\")\n",
    "\n",
    "    Dates = df[\"Date\"]\n",
    "    Dates_set = set(Dates)\n",
    "    Total_unique_dates = len(Dates_set)\n",
    "\n",
    "    Mean_sightings = Total_times/Total_unique_dates\n",
    "    print(f\"Mean number of {Taxon} sightings overall was {Mean_sightings}.\")\n",
    "\n",
    "    return Mean_sightings\n"
   ]
  },
  {
   "cell_type": "code",
   "execution_count": null,
   "metadata": {},
   "outputs": [],
   "source": [
    "Get_mean_taxon_sightings(Full_df, 'Lacanobia thalassina')"
   ]
  },
  {
   "cell_type": "markdown",
   "metadata": {},
   "source": [
    "## Creating SQL (sqlite3) database from dataframe"
   ]
  },
  {
   "cell_type": "code",
   "execution_count": null,
   "metadata": {},
   "outputs": [],
   "source": [
    "class DatabaseManager:\n",
    "    ''' Database Manager '''\n",
    "\n",
    "    def __init__(self, db_name):\n",
    "        self.db_name = db_name  # database name\n",
    "        self.conn = None        # connection\n",
    "\n",
    "\n",
    "    def check_database(self):\n",
    "        ''' Check if the database exists or not '''\n",
    "        try:\n",
    "            print(f'Checking if {self.db_name} exists or not...')\n",
    "            self.conn = sqlite3.connect(f\"file:{self.db_name}?mode=rw\", uri=True) #Used https://stackoverflow.com/questions/12932607/how-to-check-if-a-sqlite3-database-exists-in-python\n",
    "            print(f'Database exists. Succesfully connected to {self.db_name}')\n",
    "            \n",
    "        except sqlite3.OperationalError as err:\n",
    "\n",
    "            print(f'Database named {self.db_name} does NOT exist')\n",
    "\n",
    "            print(err)\n",
    "\n",
    "    def close_connection(self):\n",
    "        ''' Close connection to database '''\n",
    "\n",
    "        if self.conn is not None:\n",
    "            self.conn.close()\n"
   ]
  },
  {
   "cell_type": "code",
   "execution_count": null,
   "metadata": {},
   "outputs": [],
   "source": [
    "dbmngr = DatabaseManager(\"moth_database.db\")\n",
    "dbmngr.check_database()\n",
    "dbmngr.close_connection()\n",
    "\n",
    "\n",
    "# con = sqlite3.connect('file:aaa.db?mode=rw', uri=True)"
   ]
  },
  {
   "cell_type": "code",
   "execution_count": null,
   "metadata": {},
   "outputs": [],
   "source": [
    "create_db_from_df=input(\"Load in data from pandas dataframe? y/n\")\n",
    "\n",
    "if create_db_from_df == \"y\": \n",
    "    con = sqlite3.connect(\"moth_database.db\")\n",
    "    cur = con.cursor()\n",
    "    Full_df.to_sql('moths', con, if_exists='append', index = False)\n",
    "    print(\"Produced database using pandas dataframe.\")\n",
    "\n",
    "else: \n",
    "    print(\"Loaded database already saved as \\\"moth_database.db\\\".\")\n",
    "    con = sqlite3.connect(\"moth_database.db\")\n",
    "    cur = con.cursor()\n"
   ]
  },
  {
   "cell_type": "code",
   "execution_count": null,
   "metadata": {},
   "outputs": [],
   "source": [
    "res = cur.execute(\"SELECT * FROM moths\") #Querying full database\n",
    "# res.fetchall()\n",
    "\n",
    "full_data = cur.execute(\"SELECT * FROM moths\").fetchall()\n",
    "print(type(full_data))\n",
    "print(full_data)\n",
    "\n",
    "print(len(full_data))\n"
   ]
  },
  {
   "cell_type": "code",
   "execution_count": null,
   "metadata": {},
   "outputs": [],
   "source": [
    "colnames = cur.description\n",
    "colnames_list = []\n",
    "for row in colnames:\n",
    "    # print(row[0])\n",
    "    colnames_list.append(row[0])\n",
    "\n",
    "print(\"Database columns are: \")\n",
    "print(colnames_list)\n",
    "\n",
    "# names = list(map(lambda x: x[0], cursor.description))"
   ]
  },
  {
   "cell_type": "markdown",
   "metadata": {},
   "source": [
    "## Manipulating SQL database"
   ]
  },
  {
   "cell_type": "code",
   "execution_count": null,
   "metadata": {},
   "outputs": [],
   "source": [
    "# cur.execute(f\"CREATE TABLE moths{Full_columns}\") #Creating a table\n"
   ]
  },
  {
   "cell_type": "markdown",
   "metadata": {},
   "source": [
    "## Running SQL scripts"
   ]
  },
  {
   "cell_type": "code",
   "execution_count": null,
   "metadata": {},
   "outputs": [],
   "source": [
    "# Running .SQL scripts with sqlite3 package\n"
   ]
  }
 ],
 "metadata": {
  "kernelspec": {
   "display_name": "Python 3",
   "language": "python",
   "name": "python3"
  },
  "language_info": {
   "codemirror_mode": {
    "name": "ipython",
    "version": 3
   },
   "file_extension": ".py",
   "mimetype": "text/x-python",
   "name": "python",
   "nbconvert_exporter": "python",
   "pygments_lexer": "ipython3",
   "version": "3.11.3"
  }
 },
 "nbformat": 4,
 "nbformat_minor": 2
}
